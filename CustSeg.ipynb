{
 "cells": [
  {
   "cell_type": "code",
   "execution_count": 3,
   "metadata": {},
   "outputs": [
    {
     "name": "stdout",
     "output_type": "stream",
     "text": [
      "Training Accuracy: 0.90\n",
      "Validation Accuracy: 0.88\n"
     ]
    }
   ],
   "source": [
    "import pandas as pd\n",
    "from sklearn.model_selection import train_test_split\n",
    "from sklearn.neighbors import KNeighborsClassifier\n",
    "from sklearn.metrics import classification_report, accuracy_score\n",
    "\n",
    "# Load the training and test datasets\n",
    "training_data_path = 'Consumer_Dataset.csv'\n",
    "test_data_path = 'Consumer Test Dataset.csv'\n",
    "\n",
    "training_data = pd.read_csv(training_data_path)\n",
    "test_data = pd.read_csv(test_data_path)\n",
    "#print(training_data.head())\n",
    "\n",
    "# Drop the 'Unnamed: 0' column\n",
    "training_data = training_data.drop(columns=['Unnamed: 0'])\n",
    "test_data = test_data.drop(columns=['Unnamed: 0'])\n",
    "\n",
    "# Remove the 'Group' column before fitting the imputer on the training data\n",
    "training_features = training_data.drop(columns=['Group'])\n",
    "\n",
    "# Handle missing values\n",
    "training_features_imputed = training_features.fillna(training_features.mode().iloc[0])\n",
    "test_data_imputed = test_data.fillna(training_features.mode().iloc[0])\n",
    "\n",
    "# Convert categorical variables to dummy variables\n",
    "X = pd.get_dummies(training_features_imputed)\n",
    "test_data_imputed = pd.get_dummies(test_data_imputed)\n",
    "\n",
    "\n",
    "# Ensure both training and test data have the same dummy variables\n",
    "X, test_data_imputed = X.align(test_data_imputed, join='left', axis=1)\n",
    "test_data_imputed = test_data_imputed.fillna(0)  # Fill any new columns created in alignment with 0\n",
    "\n",
    "y = training_data['Group']\n",
    "\n",
    "# Split the training data for model evaluation\n",
    "X_train, X_val, y_train, y_val = train_test_split(X, y, test_size=0.2, random_state=42)\n",
    "\n",
    "# Train a k-Nearest Neighbors Classifier with a k value\n",
    "knn = KNeighborsClassifier(49)\n",
    "knn.fit(X_train, y_train)\n",
    "\n",
    "# Evaluate the model on the training set\n",
    "y_train_pred = knn.predict(X_train)\n",
    "training_accuracy = accuracy_score(y_train, y_train_pred)\n",
    "print(f\"Training Accuracy: {training_accuracy:.2f}\")\n",
    "\n",
    "# Evaluate the model on the validation set\n",
    "y_val_pred = knn.predict(X_val)\n",
    "validation_accuracy = accuracy_score(y_val, y_val_pred)\n",
    "print(f\"Validation Accuracy: {validation_accuracy:.2f}\")\n",
    "\n",
    "# Predict customer segments for the test dataset\n",
    "test_data_predictions = knn.predict(test_data_imputed)\n",
    "test_data['Group'] = test_data_predictions  # Assuming no need for inverse transform as no encoding is done\n",
    "\n",
    "# Save the predictions to a CSV file\n",
    "#test_data.to_csv('DAVq3predfinal.csv', index=False)\n",
    "\n"
   ]
  }
 ],
 "metadata": {
  "kernelspec": {
   "display_name": "Python 3",
   "language": "python",
   "name": "python3"
  },
  "language_info": {
   "codemirror_mode": {
    "name": "ipython",
    "version": 3
   },
   "file_extension": ".py",
   "mimetype": "text/x-python",
   "name": "python",
   "nbconvert_exporter": "python",
   "pygments_lexer": "ipython3",
   "version": "3.12.2"
  }
 },
 "nbformat": 4,
 "nbformat_minor": 2
}
